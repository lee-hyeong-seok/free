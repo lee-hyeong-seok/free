{
  "nbformat": 4,
  "nbformat_minor": 0,
  "metadata": {
    "colab": {
      "name": "leehyeongseok.ipynb",
      "provenance": [],
      "collapsed_sections": [],
      "authorship_tag": "ABX9TyN0jD2NFdN6erTUliO/dTh/",
      "include_colab_link": true
    },
    "kernelspec": {
      "name": "python3",
      "display_name": "Python 3"
    }
  },
  "cells": [
    {
      "cell_type": "markdown",
      "metadata": {
        "id": "view-in-github",
        "colab_type": "text"
      },
      "source": [
        "<a href=\"https://colab.research.google.com/github/lee-hyeong-seok/free/blob/master/leehyeongseok.ipynb\" target=\"_parent\"><img src=\"https://colab.research.google.com/assets/colab-badge.svg\" alt=\"Open In Colab\"/></a>"
      ]
    },
    {
      "cell_type": "code",
      "metadata": {
        "id": "339DwD-hR1wJ",
        "colab_type": "code",
        "colab": {}
      },
      "source": [
        ""
      ],
      "execution_count": 0,
      "outputs": []
    },
    {
      "cell_type": "markdown",
      "metadata": {
        "id": "7gS0nIIqR6j-",
        "colab_type": "text"
      },
      "source": [
        "#**인공지능 사관학교 프리 코스 과제 목차**\n",
        "* * *\n",
        "##**1주차 과제(2020/5/21)**##\n",
        ">1.언어 인공지능 서비스: 최신한국어 언어모델- KorBERT   \n",
        "> * KorBERT란?    \n",
        ">    언어활용 AI서비스가 이용하고 있는 구글의 다국어모델(BERT)이 한국어에 최적화 되어 있지 않아 이런 불편을 해소하기 위해 한국에서 개발한 한국어 언어 모델 입니다.    \n",
        "코버트는 현재 딥러닝 프레임워크인 파이토치와 텐서플로우 환경에서 사용 가능하며 지난 3월부터는 한컴오피스 지식검색 베타버전에 활용되고 있다고 합니다.\n",
        ">\n",
        ">> -참고문헌    \n",
        ">><http://www.aitimes.kr/news/articleView.html?idxno=13861>      \n",
        ">* * *   \n",
        ">2.음성 인공지능 서비스: 스마트스피커(가상비서)\n",
        "> * 스마트스피커(가상비서)    \n",
        "> 개인 비서처럼 사용자가 요구하는 작업을 처리하고 사용자에게 특화된 서비스를 제공하는 소프트웨어 에이전트입니다. 인공 지능(AI) 엔진과 음성 인식을 기반으로 사용자에게 맞춤 정보를 수집하여 제공하고, 사용자의 음성 명령에 따라 일정 관리, 이메일 전송, 식당 예약 등 여러 작업을 수행합니다. 예로 삼성의 빅스비 애플사의 시리가 있습니다.\n",
        ">\n",
        ">> -참고문헌  \n",
        ">><https://www.bioin.or.kr/InnoDS/data/upload/tech/8a11f0b8e04c43df83ab02502773ad73.pdf>\n",
        ">* * *\n",
        ">3.이미지 인공지능 서비스: Google photo 서비스\n",
        "> * Google photo    \n",
        "> 이미지 인식 기술은 이미 우리 생활 가까이에서 많이 사용되고 있습니다. \n",
        "어떤 지역에서 찍은 사진을 찾고 싶거나, 특정 인물을 검색하고 싶다면 구글 포토가 알아서 만들어 놓은 사진첩을 통해 관련 사진을 찾을 수 있습니다.  강아지가 등장하는 사진, 우산을 들고 찍은 사진을 찾고 싶다면 검색어로  ‘강아지’ , ‘우산’ 등을 입력하면     \n",
        "저장한 사진 중에서 해당 이미지가 포함된 사진을 검색해 결과로 보여줍니다.\n",
        ">\n",
        ">> -참고문헌    \n",
        ">><https://www.samsungsds.com/global/ko/news/story/visual-0214.html>\n",
        ">* * *\n",
        ">4.자율주행 인공지능 서비스: 현대기아차 SCC-ML 개발\n",
        "> * SCC-ML    \n",
        "> 현대자동차와 기아자동차는 운전자의 주행성향에 맞는 부분 자율주행을 구현하는 기술인 SCC-ML을 개발했습니다.    \n",
        "스마트 크루즈 컨트롤 SCC은 앞차와의 거리를 일정하게 유지해 운전자가 설정한 속도로 자율주행을 해주는 기능으로 ADAS(첨단 운전자보조 시스템)의 주요 기술 중 하나 이고 SCC-ML은 여기에 AI기술을 더해 운전자의 주행성향을 차가 스스로 학습해 SCC 작동 시 운전자와 거의 흡사한 패턴으로 자율주행을 도와줍니다.\n",
        ">\n",
        ">> -참고문헌    \n",
        ">><http://www.aitimes.kr/news/articleView.html?idxno=14500>\n",
        "\n",
        "\n"
      ]
    }
  ]
}